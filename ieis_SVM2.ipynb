{
 "cells": [
  {
   "cell_type": "markdown",
   "metadata": {},
   "source": [
    "# The Support Vector Machine (SVM) Algorithm"
   ]
  },
  {
   "attachments": {
    "svm.png": {
     "image/png": "[encoded data removed]"
    }
   },
   "cell_type": "markdown",
   "metadata": {},
   "source": [
    "![svm.png](attachment:svm.png)"
   ]
  },
  {
   "cell_type": "markdown",
   "metadata": {},
   "source": [
    "The Support Vector Machine (SVM) algorithm is a supervised machine learning model used for classification and regression tasks. It is particularly effective in high-dimensional spaces and situations where the number of dimensions exceeds the number of samples. The primary goal of SVM is to find the best separating hyperplane that divides the dataset into classes."
   ]
  },
  {
   "cell_type": "code",
   "execution_count": 18,
   "metadata": {},
   "outputs": [],
   "source": [
    "import pandas as pd\n",
    "import numpy as np\n",
    "import matplotlib.pyplot as plt\n",
    "import seaborn as sns\n",
    "import PyQt5 \n",
    "%matplotlib qt"
   ]
  },
  {
   "cell_type": "code",
   "execution_count": 19,
   "metadata": {},
   "outputs": [],
   "source": [
    "from sklearn import datasets\n",
    "\n",
    "# Load the iris dataset\n",
    "iris = sns.load_dataset('iris')"
   ]
  },
  {
   "cell_type": "code",
   "execution_count": 20,
   "metadata": {},
   "outputs": [
    {
     "data": {
      "text/html": [
       "<div>\n",
       "<style scoped>\n",
       "    .dataframe tbody tr th:only-of-type {\n",
       "        vertical-align: middle;\n",
       "    }\n",
       "\n",
       "    .dataframe tbody tr th {\n",
       "        vertical-align: top;\n",
       "    }\n",
       "\n",
       "    .dataframe thead th {\n",
       "        text-align: right;\n",
       "    }\n",
       "</style>\n",
       "<table border=\"1\" class=\"dataframe\">\n",
       "  <thead>\n",
       "    <tr style=\"text-align: right;\">\n",
       "      <th></th>\n",
       "      <th>sepal_length</th>\n",
       "      <th>sepal_width</th>\n",
       "      <th>petal_length</th>\n",
       "      <th>petal_width</th>\n",
       "      <th>species</th>\n",
       "    </tr>\n",
       "  </thead>\n",
       "  <tbody>\n",
       "    <tr>\n",
       "      <th>0</th>\n",
       "      <td>5.1</td>\n",
       "      <td>3.5</td>\n",
       "      <td>1.4</td>\n",
       "      <td>0.2</td>\n",
       "      <td>setosa</td>\n",
       "    </tr>\n",
       "    <tr>\n",
       "      <th>1</th>\n",
       "      <td>4.9</td>\n",
       "      <td>3.0</td>\n",
       "      <td>1.4</td>\n",
       "      <td>0.2</td>\n",
       "      <td>setosa</td>\n",
       "    </tr>\n",
       "    <tr>\n",
       "      <th>2</th>\n",
       "      <td>4.7</td>\n",
       "      <td>3.2</td>\n",
       "      <td>1.3</td>\n",
       "      <td>0.2</td>\n",
       "      <td>setosa</td>\n",
       "    </tr>\n",
       "    <tr>\n",
       "      <th>3</th>\n",
       "      <td>4.6</td>\n",
       "      <td>3.1</td>\n",
       "      <td>1.5</td>\n",
       "      <td>0.2</td>\n",
       "      <td>setosa</td>\n",
       "    </tr>\n",
       "    <tr>\n",
       "      <th>4</th>\n",
       "      <td>5.0</td>\n",
       "      <td>3.6</td>\n",
       "      <td>1.4</td>\n",
       "      <td>0.2</td>\n",
       "      <td>setosa</td>\n",
       "    </tr>\n",
       "  </tbody>\n",
       "</table>\n",
       "</div>"
      ],
      "text/plain": [
       "   sepal_length  sepal_width  petal_length  petal_width species\n",
       "0           5.1          3.5           1.4          0.2  setosa\n",
       "1           4.9          3.0           1.4          0.2  setosa\n",
       "2           4.7          3.2           1.3          0.2  setosa\n",
       "3           4.6          3.1           1.5          0.2  setosa\n",
       "4           5.0          3.6           1.4          0.2  setosa"
      ]
     },
     "execution_count": 20,
     "metadata": {},
     "output_type": "execute_result"
    }
   ],
   "source": [
    "iris.head()"
   ]
  },
  {
   "cell_type": "code",
   "execution_count": 21,
   "metadata": {},
   "outputs": [
    {
     "name": "stdout",
     "output_type": "stream",
     "text": [
      "<class 'pandas.core.frame.DataFrame'>\n",
      "RangeIndex: 150 entries, 0 to 149\n",
      "Data columns (total 5 columns):\n",
      " #   Column        Non-Null Count  Dtype  \n",
      "---  ------        --------------  -----  \n",
      " 0   sepal_length  150 non-null    float64\n",
      " 1   sepal_width   150 non-null    float64\n",
      " 2   petal_length  150 non-null    float64\n",
      " 3   petal_width   150 non-null    float64\n",
      " 4   species       150 non-null    object \n",
      "dtypes: float64(4), object(1)\n",
      "memory usage: 6.0+ KB\n"
     ]
    }
   ],
   "source": [
    "iris.info()"
   ]
  },
  {
   "cell_type": "code",
   "execution_count": 22,
   "metadata": {},
   "outputs": [
    {
     "data": {
      "text/html": [
       "<div>\n",
       "<style scoped>\n",
       "    .dataframe tbody tr th:only-of-type {\n",
       "        vertical-align: middle;\n",
       "    }\n",
       "\n",
       "    .dataframe tbody tr th {\n",
       "        vertical-align: top;\n",
       "    }\n",
       "\n",
       "    .dataframe thead th {\n",
       "        text-align: right;\n",
       "    }\n",
       "</style>\n",
       "<table border=\"1\" class=\"dataframe\">\n",
       "  <thead>\n",
       "    <tr style=\"text-align: right;\">\n",
       "      <th></th>\n",
       "      <th>sepal_length</th>\n",
       "      <th>sepal_width</th>\n",
       "      <th>petal_length</th>\n",
       "      <th>petal_width</th>\n",
       "    </tr>\n",
       "  </thead>\n",
       "  <tbody>\n",
       "    <tr>\n",
       "      <th>count</th>\n",
       "      <td>150.000000</td>\n",
       "      <td>150.000000</td>\n",
       "      <td>150.000000</td>\n",
       "      <td>150.000000</td>\n",
       "    </tr>\n",
       "    <tr>\n",
       "      <th>mean</th>\n",
       "      <td>5.843333</td>\n",
       "      <td>3.057333</td>\n",
       "      <td>3.758000</td>\n",
       "      <td>1.199333</td>\n",
       "    </tr>\n",
       "    <tr>\n",
       "      <th>std</th>\n",
       "      <td>0.828066</td>\n",
       "      <td>0.435866</td>\n",
       "      <td>1.765298</td>\n",
       "      <td>0.762238</td>\n",
       "    </tr>\n",
       "    <tr>\n",
       "      <th>min</th>\n",
       "      <td>4.300000</td>\n",
       "      <td>2.000000</td>\n",
       "      <td>1.000000</td>\n",
       "      <td>0.100000</td>\n",
       "    </tr>\n",
       "    <tr>\n",
       "      <th>25%</th>\n",
       "      <td>5.100000</td>\n",
       "      <td>2.800000</td>\n",
       "      <td>1.600000</td>\n",
       "      <td>0.300000</td>\n",
       "    </tr>\n",
       "    <tr>\n",
       "      <th>50%</th>\n",
       "      <td>5.800000</td>\n",
       "      <td>3.000000</td>\n",
       "      <td>4.350000</td>\n",
       "      <td>1.300000</td>\n",
       "    </tr>\n",
       "    <tr>\n",
       "      <th>75%</th>\n",
       "      <td>6.400000</td>\n",
       "      <td>3.300000</td>\n",
       "      <td>5.100000</td>\n",
       "      <td>1.800000</td>\n",
       "    </tr>\n",
       "    <tr>\n",
       "      <th>max</th>\n",
       "      <td>7.900000</td>\n",
       "      <td>4.400000</td>\n",
       "      <td>6.900000</td>\n",
       "      <td>2.500000</td>\n",
       "    </tr>\n",
       "  </tbody>\n",
       "</table>\n",
       "</div>"
      ],
      "text/plain": [
       "       sepal_length  sepal_width  petal_length  petal_width\n",
       "count    150.000000   150.000000    150.000000   150.000000\n",
       "mean       5.843333     3.057333      3.758000     1.199333\n",
       "std        0.828066     0.435866      1.765298     0.762238\n",
       "min        4.300000     2.000000      1.000000     0.100000\n",
       "25%        5.100000     2.800000      1.600000     0.300000\n",
       "50%        5.800000     3.000000      4.350000     1.300000\n",
       "75%        6.400000     3.300000      5.100000     1.800000\n",
       "max        7.900000     4.400000      6.900000     2.500000"
      ]
     },
     "execution_count": 22,
     "metadata": {},
     "output_type": "execute_result"
    }
   ],
   "source": [
    "iris.describe()"
   ]
  },
  {
   "cell_type": "code",
   "execution_count": 23,
   "metadata": {},
   "outputs": [
    {
     "data": {
      "text/plain": [
       "<seaborn.axisgrid.PairGrid at 0x2181930a560>"
      ]
     },
     "execution_count": 23,
     "metadata": {},
     "output_type": "execute_result"
    }
   ],
   "source": [
    "sns.pairplot(iris,hue='species')"
   ]
  },
  {
   "cell_type": "code",
   "execution_count": 24,
   "metadata": {},
   "outputs": [
    {
     "name": "stderr",
     "output_type": "stream",
     "text": [
      "c:\\Users\\Nakis\\AppData\\Local\\Programs\\Python\\Python310\\lib\\site-packages\\seaborn\\_decorators.py:36: FutureWarning: Pass the following variable as a keyword arg: y. From version 0.12, the only valid positional argument will be `data`, and passing other arguments without an explicit keyword will result in an error or misinterpretation.\n",
      "  warnings.warn(\n"
     ]
    },
    {
     "data": {
      "text/plain": [
       "<AxesSubplot:xlabel='sepal_width', ylabel='sepal_length'>"
      ]
     },
     "execution_count": 24,
     "metadata": {},
     "output_type": "execute_result"
    }
   ],
   "source": [
    "setosa=iris[iris['species']=='setosa']\n",
    "sns.kdeplot(setosa['sepal_width'],setosa['sepal_length'],cmap='plasma')"
   ]
  },
  {
   "cell_type": "code",
   "execution_count": null,
   "metadata": {},
   "outputs": [],
   "source": [
    "virginica=iris[iris['species']=='virginica']\n",
    "sns.kdeplot(virginica['sepal_width'],virginica['sepal_length'],cmap='plasma')"
   ]
  },
  {
   "cell_type": "code",
   "execution_count": null,
   "metadata": {},
   "outputs": [],
   "source": [
    "versicolor=iris[iris['species']=='versicolor']\n",
    "sns.kdeplot(versicolor['sepal_width'],versicolor['sepal_length'],cmap='plasma')"
   ]
  },
  {
   "cell_type": "code",
   "execution_count": 26,
   "metadata": {},
   "outputs": [
    {
     "name": "stderr",
     "output_type": "stream",
     "text": [
      "c:\\Users\\Nakis\\AppData\\Local\\Programs\\Python\\Python310\\lib\\site-packages\\seaborn\\_decorators.py:36: FutureWarning: Pass the following variables as keyword args: x, y. From version 0.12, the only valid positional argument will be `data`, and passing other arguments without an explicit keyword will result in an error or misinterpretation.\n",
      "  warnings.warn(\n",
      "c:\\Users\\Nakis\\AppData\\Local\\Programs\\Python\\Python310\\lib\\site-packages\\seaborn\\_decorators.py:36: FutureWarning: Pass the following variables as keyword args: x, y. From version 0.12, the only valid positional argument will be `data`, and passing other arguments without an explicit keyword will result in an error or misinterpretation.\n",
      "  warnings.warn(\n",
      "c:\\Users\\Nakis\\AppData\\Local\\Programs\\Python\\Python310\\lib\\site-packages\\seaborn\\_decorators.py:36: FutureWarning: Pass the following variables as keyword args: x, y. From version 0.12, the only valid positional argument will be `data`, and passing other arguments without an explicit keyword will result in an error or misinterpretation.\n",
      "  warnings.warn(\n"
     ]
    }
   ],
   "source": [
    "setosa=iris[iris['species']=='setosa']\n",
    "sns.scatterplot(setosa['sepal_width'],setosa['sepal_length'],palette='plasma')\n",
    "virginica=iris[iris['species']=='virginica']\n",
    "sns.scatterplot(virginica['sepal_width'],virginica['sepal_length'],palette='viridis')\n",
    "versicolor=iris[iris['species']=='versicolor']\n",
    "sns.scatterplot(versicolor['sepal_width'],versicolor['sepal_length'],palette='cividis')\n",
    "plt.show()"
   ]
  },
  {
   "cell_type": "code",
   "execution_count": 27,
   "metadata": {},
   "outputs": [
    {
     "name": "stdout",
     "output_type": "stream",
     "text": [
      "Accuracy (Polynomial Kernel):  100.00\n",
      "F1 (Polynomial Kernel):  100.00\n",
      "------------------------------\n",
      "Accuracy (RBF Kernel):  97.78\n",
      "F1 (RBF Kernel):  97.79\n"
     ]
    }
   ],
   "source": [
    "X = iris.drop(['species'],axis=1)\n",
    "y = iris['species']\n",
    "\n",
    "# Split the dataset into training and testing sets\n",
    "from sklearn.model_selection import train_test_split\n",
    "X_train, X_test, y_train, y_test = train_test_split(X, y, test_size=0.3, random_state=101)\n",
    "\n",
    "\n",
    "\n",
    "# Create an SVM classifier\n",
    "from sklearn import svm\n",
    "\n",
    "rbfmodel = svm.SVC(kernel='rbf', gamma=0.5, C=0.1).fit(X_train, y_train)\n",
    "polymodel = svm.SVC(kernel='poly', degree=3, C=1).fit(X_train, y_train)\n",
    "\n",
    "# Make predictions\n",
    "poly_pred = polymodel.predict(X_test)\n",
    "rbf_pred = rbfmodel.predict(X_test)\n",
    "\n",
    "\n",
    "# Calculate accuracy\n",
    "from sklearn.metrics import accuracy_score,f1_score\n",
    "\n",
    "poly_accuracy = accuracy_score(y_test, poly_pred)\n",
    "poly_f1 = f1_score(y_test, poly_pred, average='weighted')\n",
    "print('Accuracy (Polynomial Kernel): ', \"%.2f\" % (poly_accuracy*100))\n",
    "print('F1 (Polynomial Kernel): ', \"%.2f\" % (poly_f1*100))\n",
    "\n",
    "print(\"-\"*30)\n",
    "rbf_accuracy = accuracy_score(y_test, rbf_pred)\n",
    "rbf_f1 = f1_score(y_test, rbf_pred, average='weighted')\n",
    "print('Accuracy (RBF Kernel): ', \"%.2f\" % (rbf_accuracy*100))\n",
    "print('F1 (RBF Kernel): ', \"%.2f\" % (rbf_f1*100))\n"
   ]
  },
  {
   "cell_type": "code",
   "execution_count": 28,
   "metadata": {},
   "outputs": [
    {
     "name": "stdout",
     "output_type": "stream",
     "text": [
      "Evaluation Metrics For SVM (PolyModel): \n",
      "\n",
      "confusion matrix:\n",
      "[[13  0  0]\n",
      " [ 0 20  0]\n",
      " [ 0  0 12]]\n",
      "..............................\n",
      "classification report:\n",
      "              precision    recall  f1-score   support\n",
      "\n",
      "      setosa       1.00      1.00      1.00        13\n",
      "  versicolor       1.00      1.00      1.00        20\n",
      "   virginica       1.00      1.00      1.00        12\n",
      "\n",
      "    accuracy                           1.00        45\n",
      "   macro avg       1.00      1.00      1.00        45\n",
      "weighted avg       1.00      1.00      1.00        45\n",
      "\n",
      "------------------------------------------------------------\n",
      "SVM score :1.0\n"
     ]
    }
   ],
   "source": [
    "from sklearn.metrics import confusion_matrix,classification_report\n",
    "print(\"Evaluation Metrics For SVM (PolyModel): \\n\")\n",
    "print(f\"confusion matrix:\\n{confusion_matrix(y_test,poly_pred)}\")\n",
    "print(\".\"*30)\n",
    "print(f\"classification report:\\n{classification_report(y_test,poly_pred)}\")\n",
    "print(\"-\"*60)\n",
    "print(f\"SVM score :{polymodel.score(X_test,y_test)}\")\n"
   ]
  },
  {
   "cell_type": "code",
   "execution_count": 29,
   "metadata": {},
   "outputs": [
    {
     "name": "stdout",
     "output_type": "stream",
     "text": [
      "Evaluation Metrics For SVM (RBFModel): \n",
      "\n",
      "confusion matrix:\n",
      "[[13  0  0]\n",
      " [ 0 19  1]\n",
      " [ 0  0 12]]\n",
      "..............................\n",
      "classification report:\n",
      "              precision    recall  f1-score   support\n",
      "\n",
      "      setosa       1.00      1.00      1.00        13\n",
      "  versicolor       1.00      0.95      0.97        20\n",
      "   virginica       0.92      1.00      0.96        12\n",
      "\n",
      "    accuracy                           0.98        45\n",
      "   macro avg       0.97      0.98      0.98        45\n",
      "weighted avg       0.98      0.98      0.98        45\n",
      "\n",
      "..............................\n",
      "SVM score :0.9777777777777777\n"
     ]
    }
   ],
   "source": [
    "print(\"Evaluation Metrics For SVM (RBFModel): \\n\")\n",
    "print(f\"confusion matrix:\\n{confusion_matrix(y_test,rbf_pred)}\")\n",
    "print(\".\"*30)\n",
    "print(f\"classification report:\\n{classification_report(y_test,rbf_pred)}\")\n",
    "print(\".\"*30)\n",
    "print(f\"SVM score :{rbfmodel.score(X_test,y_test)}\")"
   ]
  },
  {
   "cell_type": "code",
   "execution_count": 30,
   "metadata": {},
   "outputs": [
    {
     "name": "stdout",
     "output_type": "stream",
     "text": [
      "df_poly:\n",
      "          Labels Predictions_poly\n",
      "33       setosa           setosa\n",
      "16       setosa           setosa\n",
      "43       setosa           setosa\n",
      "129   virginica        virginica\n",
      "50   versicolor       versicolor\n",
      "123   virginica        virginica\n",
      "68   versicolor       versicolor\n",
      "53   versicolor       versicolor\n",
      "146   virginica        virginica\n",
      "1        setosa           setosa\n",
      "147   virginica        virginica\n",
      "32       setosa           setosa\n",
      "31       setosa           setosa\n",
      "122   virginica        virginica\n",
      "127   virginica        virginica\n",
      "74   versicolor       versicolor\n",
      "88   versicolor       versicolor\n",
      "96   versicolor       versicolor\n",
      "42       setosa           setosa\n",
      "134   virginica        virginica\n",
      "80   versicolor       versicolor\n",
      "48       setosa           setosa\n",
      "90   versicolor       versicolor\n",
      "65   versicolor       versicolor\n",
      "97   versicolor       versicolor\n",
      "64   versicolor       versicolor\n",
      "93   versicolor       versicolor\n",
      "114   virginica        virginica\n",
      "25       setosa           setosa\n",
      "41       setosa           setosa\n",
      "104   virginica        virginica\n",
      "89   versicolor       versicolor\n",
      "116   virginica        virginica\n",
      "82   versicolor       versicolor\n",
      "112   virginica        virginica\n",
      "55   versicolor       versicolor\n",
      "86   versicolor       versicolor\n",
      "61   versicolor       versicolor\n",
      "94   versicolor       versicolor\n",
      "135   virginica        virginica\n",
      "21       setosa           setosa\n",
      "22       setosa           setosa\n",
      "29       setosa           setosa\n",
      "77   versicolor       versicolor\n",
      "66   versicolor       versicolor\n"
     ]
    }
   ],
   "source": [
    "df_poly=pd.DataFrame({'Labels':y_test,\"Predictions_poly\":poly_pred})\n",
    "print('df_poly:\\n',df_poly)"
   ]
  },
  {
   "cell_type": "code",
   "execution_count": 31,
   "metadata": {},
   "outputs": [
    {
     "name": "stdout",
     "output_type": "stream",
     "text": [
      "df_rbf:\n",
      "          Labels Predictions_RBF\n",
      "33       setosa          setosa\n",
      "16       setosa          setosa\n",
      "43       setosa          setosa\n",
      "129   virginica       virginica\n",
      "50   versicolor      versicolor\n",
      "123   virginica       virginica\n",
      "68   versicolor      versicolor\n",
      "53   versicolor      versicolor\n",
      "146   virginica       virginica\n",
      "1        setosa          setosa\n",
      "147   virginica       virginica\n",
      "32       setosa          setosa\n",
      "31       setosa          setosa\n",
      "122   virginica       virginica\n",
      "127   virginica       virginica\n",
      "74   versicolor      versicolor\n",
      "88   versicolor      versicolor\n",
      "96   versicolor      versicolor\n",
      "42       setosa          setosa\n",
      "134   virginica       virginica\n",
      "80   versicolor      versicolor\n",
      "48       setosa          setosa\n",
      "90   versicolor      versicolor\n",
      "65   versicolor      versicolor\n",
      "97   versicolor      versicolor\n",
      "64   versicolor      versicolor\n",
      "93   versicolor      versicolor\n",
      "114   virginica       virginica\n",
      "25       setosa          setosa\n",
      "41       setosa          setosa\n",
      "104   virginica       virginica\n",
      "89   versicolor      versicolor\n",
      "116   virginica       virginica\n",
      "82   versicolor      versicolor\n",
      "112   virginica       virginica\n",
      "55   versicolor      versicolor\n",
      "86   versicolor      versicolor\n",
      "61   versicolor      versicolor\n",
      "94   versicolor      versicolor\n",
      "135   virginica       virginica\n",
      "21       setosa          setosa\n",
      "22       setosa          setosa\n",
      "29       setosa          setosa\n",
      "77   versicolor       virginica\n",
      "66   versicolor      versicolor\n"
     ]
    }
   ],
   "source": [
    "df_rbf=pd.DataFrame({'Labels':y_test,\"Predictions_RBF\":rbf_pred})\n",
    "print('df_rbf:\\n',df_rbf)"
   ]
  },
  {
   "cell_type": "code",
   "execution_count": null,
   "metadata": {},
   "outputs": [],
   "source": []
  }
 ],
 "metadata": {
  "kernelspec": {
   "display_name": "Python 3 (ipykernel)",
   "language": "python",
   "name": "python3"
  },
  "language_info": {
   "codemirror_mode": {
    "name": "ipython",
    "version": 3
   },
   "file_extension": ".py",
   "mimetype": "text/x-python",
   "name": "python",
   "nbconvert_exporter": "python",
   "pygments_lexer": "ipython3",
   "version": "3.10.5"
  },
  "vscode": {
   "interpreter": {
    "hash": "0de6523c63d1ea688890fb1d7b21871a0e293bda20a7ba509336a74caa239a44"
   }
  }
 },
 "nbformat": 4,
 "nbformat_minor": 2
}
