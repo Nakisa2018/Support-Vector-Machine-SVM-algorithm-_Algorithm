{
 "cells": [
  {
   "cell_type": "markdown",
   "metadata": {},
   "source": [
    "# The Support Vector Machine (SVM) Algorithm"
   ]
  },
  {
   "attachments": {
    "svm.png": {
     "image/png": "[encoded data removed]"
    }
   },
   "cell_type": "markdown",
   "metadata": {},
   "source": [
    "![svm.png](attachment:svm.png)"
   ]
  },
  {
   "cell_type": "markdown",
   "metadata": {},
   "source": [
    "The Support Vector Machine (SVM) algorithm is a supervised machine learning model used for classification and regression tasks. It is particularly effective in high-dimensional spaces and situations where the number of dimensions exceeds the number of samples. The primary goal of SVM is to find the best separating hyperplane that divides the dataset into classes."
   ]
  },
  {
   "cell_type": "code",
   "execution_count": 1,
   "metadata": {},
   "outputs": [],
   "source": [
    "import pandas as pd\n",
    "import numpy as np\n",
    "import matplotlib.pyplot as plt\n",
    "import seaborn as sns\n",
    "import PyQt5 \n",
    "%matplotlib qt"
   ]
  },
  {
   "cell_type": "code",
   "execution_count": 2,
   "metadata": {},
   "outputs": [
    {
     "name": "stdout",
     "output_type": "stream",
     "text": [
      "Accuracy: 1.00\n",
      "----------------------------------------\n",
      "confusion matrix for SVM:\n",
      "[[29  0  0]\n",
      " [ 0 23  0]\n",
      " [ 0  0 23]]\n",
      "========================================\n",
      "classification report for SVM:\n",
      "              precision    recall  f1-score   support\n",
      "\n",
      "           0       1.00      1.00      1.00        29\n",
      "           1       1.00      1.00      1.00        23\n",
      "           2       1.00      1.00      1.00        23\n",
      "\n",
      "    accuracy                           1.00        75\n",
      "   macro avg       1.00      1.00      1.00        75\n",
      "weighted avg       1.00      1.00      1.00        75\n",
      "\n",
      "------------------------------------------------------------\n",
      "SVM score :1.0\n"
     ]
    }
   ],
   "source": [
    "from sklearn import datasets\n",
    "\n",
    "# Load the iris dataset\n",
    "iris = datasets.load_iris()\n",
    "X = iris.data\n",
    "y = iris.target\n",
    "\n",
    "# Split the dataset into training and testing sets\n",
    "from sklearn.model_selection import train_test_split\n",
    "X_train, X_test, y_train, y_test = train_test_split(X, y, test_size=0.5, random_state=42)\n",
    "\n",
    "\n",
    "\n",
    "# Create an SVM classifier\n",
    "from sklearn.svm import SVC\n",
    "clf = SVC(kernel='linear')\n",
    "\n",
    "# Train the model\n",
    "clf.fit(X_train, y_train)\n",
    "\n",
    "\n",
    "# Make predictions\n",
    "from sklearn.metrics import accuracy_score\n",
    "y_pred = clf.predict(X_test)\n",
    "\n",
    "# Calculate accuracy\n",
    "accuracy = accuracy_score(y_test, y_pred)\n",
    "print(f'Accuracy: {accuracy:.2f}')\n",
    "print(\"-\"*40)\n",
    "\n",
    "from sklearn.metrics import confusion_matrix,classification_report\n",
    "print(f\"confusion matrix for SVM:\\n{confusion_matrix(y_test,y_pred)}\")\n",
    "print(\"=\"*40)\n",
    "print(f\"classification report for SVM:\\n{classification_report(y_test,y_pred)}\")\n",
    "print(\"-\"*60)\n",
    "print(f\"SVM score :{clf.score(X_test,y_test)}\")"
   ]
  }
 ],
 "metadata": {
  "kernelspec": {
   "display_name": "Python 3 (ipykernel)",
   "language": "python",
   "name": "python3"
  },
  "language_info": {
   "codemirror_mode": {
    "name": "ipython",
    "version": 3
   },
   "file_extension": ".py",
   "mimetype": "text/x-python",
   "name": "python",
   "nbconvert_exporter": "python",
   "pygments_lexer": "ipython3",
   "version": "3.10.5"
  },
  "vscode": {
   "interpreter": {
    "hash": "0de6523c63d1ea688890fb1d7b21871a0e293bda20a7ba509336a74caa239a44"
   }
  }
 },
 "nbformat": 4,
 "nbformat_minor": 2
}
